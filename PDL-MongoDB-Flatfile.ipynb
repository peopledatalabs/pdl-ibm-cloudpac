{
 "cells": [
  {
   "cell_type": "code",
   "execution_count": 49,
   "metadata": {},
   "outputs": [],
   "source": [
    "import pandas as pd\n",
    "!pip install pymongo\n",
    "from pymongo import MongoClient\n",
    "import s3fs\n",
    "\n",
    "# If the data is stored on S3\n",
    "'''\n",
    "pip3 install s3fs\n",
    "Data_path can be s3://\n",
    "\n",
    "aws_access_key_id = <access-key>\n",
    "aws_secret_access_key = <secret-key>\n",
    "os.environ[aws_access_key_id]\n",
    "os.environ[aws_secret_access_key]\n",
    "'''\n",
    "\n",
    "# Variables used for database/dataframe\n",
    "mongo_cluster_ip = '<cluster-ip>, 27017'\n",
    "db_name = '<database-name>'\n",
    "collection_name = '<collection-name>'\n",
    "\n",
    "# Data_path can be a local file:// or S3 buckets using s3://, \n",
    "data_path = '<path-to-data-asset>'\n",
    "\n",
    "# Instantiating the db\n",
    "client = MongoClient(mongo_cluster_ip)\n",
    "db = client[db_name]\n",
    "collection = db[collection_name]"
   ]
  },
  {
   "cell_type": "code",
   "execution_count": 42,
   "metadata": {},
   "outputs": [],
   "source": [
    "# The below example covers how to read data from JSON, Parquet or Csv.\n",
    "\n",
    "# JSON file \n",
    "df_json = pd.read_json(data_path, typ='frame', lines=True)\n",
    "\n",
    "# Parquet file\n",
    "#df_parquet = pd.read_parquet(data_path)\n",
    "\n",
    "# Csv file\n",
    "#df_csv = pd.read_csv(data_path)\n",
    "         "
   ]
  },
  {
   "cell_type": "code",
   "execution_count": null,
   "metadata": {},
   "outputs": [],
   "source": [
    "#insert the file if those records don't already exist\n",
    "try:\n",
    "    if collection.estimated_document_count() != 0:\n",
    "        collection.drop()\n",
    "    to_insert = df_json.to_dict('records')\n",
    "    if isinstance(to_insert, list):\n",
    "        collection.insert_many(to_insert)\n",
    "    elif isinstance(to_insert, dict):\n",
    "        collection.insert_one(to_insert)\n",
    "    print('successfully inserted data into database')\n",
    "except:\n",
    "    print('could not insert json into database')"
   ]
  },
  {
   "cell_type": "code",
   "execution_count": null,
   "metadata": {},
   "outputs": [],
   "source": [
    "df_mongo = pd.DataFrame(collection.find())\n",
    "df_mongo.info()"
   ]
  }
 ],
 "metadata": {
  "kernelspec": {
   "display_name": "Python 3",
   "language": "python",
   "name": "python3"
  },
  "language_info": {
   "codemirror_mode": {
    "name": "ipython",
    "version": 3
   },
   "file_extension": ".py",
   "mimetype": "text/x-python",
   "name": "python",
   "nbconvert_exporter": "python",
   "pygments_lexer": "ipython3",
   "version": "3.8.5"
  }
 },
 "nbformat": 4,
 "nbformat_minor": 4
}
