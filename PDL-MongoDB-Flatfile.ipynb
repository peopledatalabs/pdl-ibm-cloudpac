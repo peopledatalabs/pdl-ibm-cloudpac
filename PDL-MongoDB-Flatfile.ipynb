{
 "cells": [
  {
   "cell_type": "code",
   "execution_count": 2,
   "metadata": {},
   "outputs": [],
   "source": [
    "import pandas as pd\n",
    "#!pip install pymongo\n",
    "from pymongo import MongoClient\n",
    "\n",
    "\n",
    "df = pd.read_json('/project_data/data_asset/ibm_demo_v5.json', typ='frame',lines=True)\n",
    "mongoIP = '<mongodb-ip-address>'\n",
    "\n",
    "# DB and collection names\n",
    "client = MongoClient(mongoIP)\n",
    "\n",
    "db_name = 'PeopleDataLabs'\n",
    "collection_name = 'PDL_demo'\n",
    "\n",
    "# instantiating the db names\n",
    "db = client[db_name]\n",
    "collection = db[collection_name]\n",
    "df.columns"
   ]
  },
  {
   "cell_type": "code",
   "execution_count": 3,
   "metadata": {},
   "outputs": [
    {
     "name": "stdout",
     "output_type": "stream",
     "text": [
      "\n"
     ]
    }
   ],
   "source": [
    "#insert the file if those records don't already exist\n",
    "try:\n",
    "    if collection.estimated_document_count() != 0:\n",
    "        collection.drop()\n",
    "    to_insert = df.to_dict('records')\n",
    "    if isinstance(to_insert, list):\n",
    "        collection.insert_many(to_insert)\n",
    "    elif isinstance(to_insert, dict):\n",
    "        collection.insert_one(to_insert)\n",
    "    print('successfully inserted data into database')\n",
    "except:\n",
    "    print('could not insert json into database')"
   ]
  },
  {
   "cell_type": "code",
   "execution_count": null,
   "metadata": {},
   "outputs": [],
   "source": [
    "df_mongo = pd.DataFrame(collection.find())\n",
    "df_mongo.info()"
   ]
  },
  {
   "cell_type": "code",
   "execution_count": null,
   "metadata": {},
   "outputs": [],
   "source": [
    "df.shape"
   ]
  },
  {
   "cell_type": "code",
   "execution_count": null,
   "metadata": {},
   "outputs": [],
   "source": [
    "df.memory_usage(deep=True)"
   ]
  }
 ],
 "metadata": {
  "kernelspec": {
   "display_name": "Python 3",
   "language": "python",
   "name": "python3"
  },
  "language_info": {
   "codemirror_mode": {
    "name": "ipython",
    "version": 3
   },
   "file_extension": ".py",
   "mimetype": "text/x-python",
   "name": "python",
   "nbconvert_exporter": "python",
   "pygments_lexer": "ipython3",
   "version": "3.8.5"
  }
 },
 "nbformat": 4,
 "nbformat_minor": 4
}
