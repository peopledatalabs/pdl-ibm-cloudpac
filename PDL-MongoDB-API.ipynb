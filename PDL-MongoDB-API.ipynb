{
 "cells": [
  {
   "cell_type": "code",
   "execution_count": 61,
   "metadata": {},
   "outputs": [],
   "source": [
    "import pandas as pd\n",
    "!pip install pymongo\n",
    "from pymongo import MongoClient\n",
    "\n",
    "# Api Key\n",
    "api_key = \"<api-key>\"\n",
    "api_endpoint = 'https://api-staging.peopledatalabs.com/v5/person'\n",
    "\n",
    "# Variables used for database/dataframe\n",
    "mongo_cluster_ip = '<cluster-ip>, 27017'\n",
    "db_name = '<database-name>'\n",
    "collection_name = '<collection-name>'\n",
    "data_path = '<path-to-data-asset>'\n",
    "\n",
    "# Instantiating the db\n",
    "client = MongoClient(mongo_cluster_ip)\n",
    "db = client[db_name]\n",
    "collection = db[collection_name]"
   ]
  },
  {
   "cell_type": "code",
   "execution_count": 20,
   "metadata": {},
   "outputs": [],
   "source": [
    "headers = {\n",
    "   \"X-Api-Key\": api_key,\n",
    "   \"Accept-Encoding\": \"gzip\",\n",
    "   \"Content-Type\": \"application/json\",\n",
    "   \"Accept\": \"application/json\", \n",
    "}\n",
    "\n",
    "data = {\n",
    "   \"requests\": [\n",
    "      {\n",
    "           \"params\": {\n",
    "               \"profile\": [\"linkedin.com/in/seanthorne\"]\n",
    "           }\n",
    "       },\n",
    "       {\n",
    "           \"params\": {\n",
    "               \"profile\": [\"linkedin.com/in/randrewn\"]\n",
    "           }\n",
    "       },\n",
    "       {\n",
    "           \"params\": {\n",
    "               \"email\": [\"kevin@peopledatalabs.com\"]\n",
    "           }\n",
    "       },\n",
    "       {\n",
    "           \"params\": {\n",
    "               \"email\": [\"ben@peopledatalabs.com\"]\n",
    "           }\n",
    "        },\n",
    "        {\n",
    "           \"params\": {\n",
    "               \"company\": [\"peopledatalabs.com\"],\n",
    "               \"name\": [\"henry nevue\"]\n",
    "           }\n",
    "       }\n",
    "   ]\n",
    "}"
   ]
  },
  {
   "cell_type": "code",
   "execution_count": null,
   "metadata": {},
   "outputs": [],
   "source": [
    "# Using the Requests module for makeing API requests\n",
    "response = requests.post(\n",
    "  api_endpoint,\n",
    "  headers=headers,\n",
    "  json=data\n",
    ").json()"
   ]
  },
  {
   "cell_type": "code",
   "execution_count": 77,
   "metadata": {},
   "outputs": [],
   "source": [
    "# A check on the status codes returned\n",
    "df = pd.DataFrame(response)\n",
    "df.status"
   ]
  },
  {
   "cell_type": "code",
   "execution_count": 70,
   "metadata": {},
   "outputs": [],
   "source": [
    "# Insert the file if those records don't already exist\n",
    "try:\n",
    "    if collection.estimated_document_count() != 0:\n",
    "        collection.drop()\n",
    "    to_insert = df.to_dict('records')\n",
    "    if isinstance(to_insert, list):\n",
    "        collection.insert_many(to_insert)\n",
    "    elif isinstance(to_insert, dict):\n",
    "        collection.insert_one(to_insert)\n",
    "    print('successfully inserted data into database')\n",
    "except:\n",
    "    print('could not insert json into database')\n",
    "    "
   ]
  }
 ],
 "metadata": {
  "kernelspec": {
   "display_name": "Python 3",
   "language": "python",
   "name": "python3"
  },
  "language_info": {
   "codemirror_mode": {
    "name": "ipython",
    "version": 3
   },
   "file_extension": ".py",
   "mimetype": "text/x-python",
   "name": "python",
   "nbconvert_exporter": "python",
   "pygments_lexer": "ipython3",
   "version": "3.8.5"
  }
 },
 "nbformat": 4,
 "nbformat_minor": 4
}
